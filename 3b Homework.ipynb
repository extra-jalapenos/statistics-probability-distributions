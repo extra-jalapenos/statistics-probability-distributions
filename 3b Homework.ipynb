{
 "cells": [
  {
   "cell_type": "markdown",
   "id": "010222e7-5132-47e3-b8e9-bcb13e503f27",
   "metadata": {},
   "source": [
    "# Probability Distributions"
   ]
  },
  {
   "cell_type": "markdown",
   "id": "f8d39ff1-490e-4110-9ff1-8880fdba895c",
   "metadata": {},
   "source": [
    "### Homework"
   ]
  },
  {
   "cell_type": "markdown",
   "id": "e5aac0b8-67cf-496d-8b82-d7a2910ef36b",
   "metadata": {},
   "source": [
    "Before you begin, remember to import the necessary libraries."
   ]
  },
  {
   "cell_type": "code",
   "execution_count": null,
   "id": "33de4fa0-4c6b-412e-9d31-b60b777ec39a",
   "metadata": {},
   "outputs": [],
   "source": [
    "import numpy as np\n",
    "import pandas as pd\n",
    "from scipy import stats\n",
    "\n",
    "import matplotlib.pyplot as plt\n",
    "import seaborn as sns\n",
    "sns.set_theme()"
   ]
  },
  {
   "cell_type": "markdown",
   "id": "a457f633-a865-4998-862f-a46f77e07621",
   "metadata": {},
   "source": [
    "1. Using the appropriate `numpy` function: \n",
    "    1. generate one coin toss from a fair coin\n",
    "    2. write a function `my_toss()` that every time it's called, prints out 'Heads!' or 'Tails!' (Heads = 1); make sure to test it by calling the function `my_toss()`\n",
    "    3. generate 10 coin tosses from a fair coin and show each toss' result in a list\n",
    "    4. generate 10 coin tosses from a coin that gives heads 70% of the times and show each toss' result in a list"
   ]
  },
  {
   "cell_type": "code",
   "execution_count": null,
   "id": "47dd7823-63c6-444c-858a-6500c079b098",
   "metadata": {},
   "outputs": [],
   "source": []
  },
  {
   "cell_type": "markdown",
   "id": "9c0d0aa3-80b0-42b0-b5a0-9c2024949a3d",
   "metadata": {},
   "source": [
    "2. Simulate the toss of 100 fair coins in 10,000 different experiments and save the results in a list named `fair`, then plot the histogram to show its underlying distribution. What does it look like? Describe it. "
   ]
  },
  {
   "cell_type": "code",
   "execution_count": null,
   "id": "521f1b7f-1158-4844-b93b-182c7d17545e",
   "metadata": {},
   "outputs": [],
   "source": []
  },
  {
   "cell_type": "markdown",
   "id": "53aa5061-9684-43d7-b0bc-007045486fa8",
   "metadata": {},
   "source": [
    "3. Simulate the toss of 100 unfair coins ($p=0.75$) in 10,000 different experiments and save the results in a list named `unfair`, then plot its histogram next to the one of the `fair` coin tosses. What can you say about the two distributions? *Hint: the `.set_xlim()` method could be useful to extend the x-axis*"
   ]
  },
  {
   "cell_type": "code",
   "execution_count": null,
   "id": "178db7ab-b7e2-42fb-bf99-8fb81cc57acb",
   "metadata": {},
   "outputs": [],
   "source": []
  },
  {
   "cell_type": "markdown",
   "id": "d8c9ff1c-b50a-43b0-b40b-fdc0339c8c07",
   "metadata": {},
   "source": [
    "4. Consider this simple experiment: you take a coin and toss it 10 times. Now imagine you keep running this experiment until you get 10 heads in a row. Write a program that keeps tossing 10 coins until it reaches 10 heads and, once it has done so, prints to screen something like *\"Reached 10 straight heads after 307 tosses!\"*."
   ]
  },
  {
   "cell_type": "code",
   "execution_count": null,
   "id": "63d9348f-2c86-4579-a03d-548a1d088e95",
   "metadata": {},
   "outputs": [],
   "source": []
  },
  {
   "cell_type": "markdown",
   "id": "4f87fa5a-01e8-444b-b5b6-53d8bf37fe12",
   "metadata": {},
   "source": [
    "5. Using the function `np.random.choice()`, simulate the roll of a die (that outputs values from 1 to 6); then, write a program that simulates 1000 rolls. What does it look like? Does it make sense to you? It should look different from any distribution we've seen so far, in fact, you shoud have generated a [Uniform distribution](https://en.wikipedia.org/wiki/Continuous_uniform_distribution) and it should look similar to [this one](https://www.newtechdojo.com/wp-content/uploads/2020/06/Pro-Pic-6-1024x617.png)."
   ]
  },
  {
   "cell_type": "code",
   "execution_count": null,
   "id": "8ed162dc-ef19-40c6-92c1-b3cde6a6e200",
   "metadata": {},
   "outputs": [],
   "source": []
  },
  {
   "cell_type": "markdown",
   "id": "af4995f0-edce-427a-8f3a-9fdd56faca21",
   "metadata": {},
   "source": [
    "6. Generate a simulated dataset `df_sim` that contains data about 1000 fictitious survey respondents and 4 columns, specified as follows: \n",
    "\n",
    "- `id`: this is a progressive number starting from 1001\n",
    "- `gender`: the gender of the respondent represented as 1 or 0 (assume that the probability of 1 is $p=0.5042$)\n",
    "- `height`: the height of the respondent (assume it comes from a Normal distribution with $\\mu=170$ and $\\sigma^2=100$)\n",
    "- `eyes`: choose randomly between ['green', 'blue', 'hazel', 'brown', 'other'] using the following probabilities [0.03, 0.1, 0.1, 0.7, 0.07]\n",
    "- `score` the number of questions the respondent was able to answer to in the first 10 minuts (assume it comes from a Poisson distribution with $\\lambda=7$ and $n=1000$)"
   ]
  },
  {
   "cell_type": "code",
   "execution_count": null,
   "id": "935e8a31-5d63-4d49-a268-76d7da1153e6",
   "metadata": {},
   "outputs": [],
   "source": []
  },
  {
   "cell_type": "markdown",
   "id": "5ceb51a6-8e10-4950-bd86-736d2faa26fe",
   "metadata": {},
   "source": [
    "7. Write a function `tosses10()` that, every time it is executed, it returns the `cnt` value from question 4. Run a simulation of 1000 experiments where, at every iteration, you run the `tosses10()` function and append the result to a list named `rounds`. Plot the density of the resulting distribution of the new `rounds` object. What does it look like? What can you tell about the underlying data?"
   ]
  },
  {
   "cell_type": "code",
   "execution_count": null,
   "id": "b2b55166-212c-4aec-a2d6-929657a7541b",
   "metadata": {},
   "outputs": [],
   "source": []
  },
  {
   "cell_type": "markdown",
   "id": "7ee3a412-077d-4649-b7a4-380e56722e8b",
   "metadata": {},
   "source": [
    "8. [Bonus]: Create a script that simulates a [Magic 8 Ball](https://en.wikipedia.org/wiki/Magic_8_Ball), an oracle from the 50's used for fortune-telling and seeking advice.\n",
    "\n",
    "Make sure the ball has the following features: \n",
    "\n",
    "- it allows the user to input his/her question;\n",
    "- it uses the responses from the `responses` list provided below; \n",
    "- it selects from the `responses` list in a biased manner, giving mostly negative (or positive, if you prefer) replies."
   ]
  },
  {
   "cell_type": "code",
   "execution_count": null,
   "id": "751ee430-a5ce-4624-81e5-03a227143a1a",
   "metadata": {},
   "outputs": [],
   "source": [
    "responses = [\"It is certain\", \"It is decidedly so\", \"Without a doubt\", \"Yes, definitely\",\n",
    "             \"You may rely on it\", \"As I see it, yes\", \"Most Likely\", \"Outlook Good\",\n",
    "             \"Yes\", \"Signs point to yes\", \"Reply hazy, try again\", \"Ask again later\",\n",
    "             \"Better not tell you now\", \"Cannot predict now\", \"Concentrate and ask again\",\n",
    "             \"Don't count on it\", \"My reply is no\", \"My sources say no\", \"Outlook not so good\", \"Very Doubtful\"]"
   ]
  },
  {
   "cell_type": "code",
   "execution_count": null,
   "id": "0405e282-f3de-414f-b831-1a3c0aabe730",
   "metadata": {},
   "outputs": [],
   "source": []
  }
 ],
 "metadata": {
  "kernelspec": {
   "display_name": "Python 3 (ipykernel)",
   "language": "python",
   "name": "python3"
  },
  "language_info": {
   "codemirror_mode": {
    "name": "ipython",
    "version": 3
   },
   "file_extension": ".py",
   "mimetype": "text/x-python",
   "name": "python",
   "nbconvert_exporter": "python",
   "pygments_lexer": "ipython3",
   "version": "3.9.7"
  }
 },
 "nbformat": 4,
 "nbformat_minor": 5
}
