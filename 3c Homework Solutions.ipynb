{
 "cells": [
  {
   "cell_type": "markdown",
   "id": "05d464a6-4575-4c13-aa05-a4ba99a49b94",
   "metadata": {},
   "source": [
    "# Probability Distributions"
   ]
  },
  {
   "cell_type": "markdown",
   "id": "f8d39ff1-490e-4110-9ff1-8880fdba895c",
   "metadata": {},
   "source": [
    "### Homework Solutions"
   ]
  },
  {
   "cell_type": "markdown",
   "id": "e5aac0b8-67cf-496d-8b82-d7a2910ef36b",
   "metadata": {},
   "source": [
    "Before you begin, remember to import the necessary libraries."
   ]
  },
  {
   "cell_type": "code",
   "execution_count": 1,
   "id": "33de4fa0-4c6b-412e-9d31-b60b777ec39a",
   "metadata": {},
   "outputs": [],
   "source": [
    "import numpy as np\n",
    "import pandas as pd\n",
    "from scipy import stats\n",
    "\n",
    "import matplotlib.pyplot as plt\n",
    "import seaborn as sns\n",
    "sns.set_theme()"
   ]
  },
  {
   "cell_type": "markdown",
   "id": "a457f633-a865-4998-862f-a46f77e07621",
   "metadata": {},
   "source": [
    "1. Using the appropriate `numpy` function: \n",
    "    1. generate one coin toss from a fair coin\n",
    "    2. write a function `my_toss()` that every time it's called, prints out 'Heads!' or 'Tails!' (Heads = 1); make sure to test it by calling the function `my_toss()`\n",
    "    3. generate 10 coin tosses from a fair coin and show each toss' result in a list\n",
    "    4. generate 10 coin tosses from a coin that gives heads 70% of the times and show each toss' result in a list"
   ]
  },
  {
   "cell_type": "code",
   "execution_count": 10,
   "id": "b2eb4408-6bd3-4b15-aa9c-ef771632c1c7",
   "metadata": {},
   "outputs": [
    {
     "data": {
      "text/plain": [
       "1"
      ]
     },
     "execution_count": 10,
     "metadata": {},
     "output_type": "execute_result"
    }
   ],
   "source": [
    "#1a. \n",
    "np.random.binomial(1, 0.5)"
   ]
  },
  {
   "cell_type": "code",
   "execution_count": 11,
   "id": "6e6dd22c-bb4a-47f8-b7c3-2b9595d13b67",
   "metadata": {},
   "outputs": [],
   "source": [
    "#1b.\n",
    "def my_toss(): \n",
    "    if np.random.binomial(1, 0.5) == 1: \n",
    "        print('Heads!')\n",
    "    else: \n",
    "        print('Tails!')"
   ]
  },
  {
   "cell_type": "code",
   "execution_count": 20,
   "id": "168df81f-6525-4f13-aee7-ace0e3191f53",
   "metadata": {},
   "outputs": [
    {
     "name": "stdout",
     "output_type": "stream",
     "text": [
      "Tails!\n"
     ]
    }
   ],
   "source": [
    "my_toss()"
   ]
  },
  {
   "cell_type": "code",
   "execution_count": 21,
   "id": "c3066733-ceb5-443b-95c0-939b99230ae7",
   "metadata": {},
   "outputs": [
    {
     "data": {
      "text/plain": [
       "array([0, 0, 0, 1, 0, 0, 0, 1, 1, 1])"
      ]
     },
     "execution_count": 21,
     "metadata": {},
     "output_type": "execute_result"
    }
   ],
   "source": [
    "#1c.\n",
    "np.random.binomial(1, 0.5, 10)"
   ]
  },
  {
   "cell_type": "code",
   "execution_count": 22,
   "id": "60d43591-af48-487f-86fa-4afc155e2231",
   "metadata": {},
   "outputs": [
    {
     "data": {
      "text/plain": [
       "array([1, 1, 1, 0, 1, 1, 0, 1, 1, 1])"
      ]
     },
     "execution_count": 22,
     "metadata": {},
     "output_type": "execute_result"
    }
   ],
   "source": [
    "#1d. \n",
    "np.random.binomial(1, 0.7, 10)"
   ]
  },
  {
   "cell_type": "markdown",
   "id": "9c0d0aa3-80b0-42b0-b5a0-9c2024949a3d",
   "metadata": {},
   "source": [
    "2. Simulate the toss of 100 fair coins in 10,000 different experiments and save the results in a list named `fair`, then plot the histogram to show its underlying distribution. What does it look like? Describe it. "
   ]
  },
  {
   "cell_type": "code",
   "execution_count": 23,
   "id": "7f008ed8-879e-4258-b79d-8aacbfdfa06a",
   "metadata": {},
   "outputs": [],
   "source": [
    "fair = np.random.binomial(100, 0.5, 10000)"
   ]
  },
  {
   "cell_type": "code",
   "execution_count": 24,
   "id": "06e8e2f3-4ec3-4921-98d9-f85f6d8a93b3",
   "metadata": {},
   "outputs": [
    {
     "data": {
      "image/png": "[encoded data removed]",
      "text/plain": [
       "<Figure size 432x288 with 1 Axes>"
      ]
     },
     "metadata": {},
     "output_type": "display_data"
    }
   ],
   "source": [
    "bins_fair = [el-0.5 for el in list(set(fair))]\n",
    "sns.histplot(fair, bins = bins_fair)\n",
    "plt.show()"
   ]
  },
  {
   "cell_type": "markdown",
   "id": "53aa5061-9684-43d7-b0bc-007045486fa8",
   "metadata": {},
   "source": [
    "3. Simulate the toss of 100 unfair coins ($p=0.75$) in 10,000 different experiments and save the results in a list named `unfair`, then plot its histogram next to the one of the `fair` coin tosses. What can you say about the two distributions? *Hint: the `.set_xlim()` method could be useful to extend the x-axis*"
   ]
  },
  {
   "cell_type": "code",
   "execution_count": 25,
   "id": "0c67b960-3371-4f82-b5bc-964c5d3dc9cf",
   "metadata": {},
   "outputs": [],
   "source": [
    "unfair = np.random.binomial(100, 0.75, 10000)"
   ]
  },
  {
   "cell_type": "code",
   "execution_count": 27,
   "id": "93ff3219-d96a-4763-96bb-39237e8c193e",
   "metadata": {},
   "outputs": [
    {
     "data": {
      "image/png": "[encoded data removed]",
      "text/plain": [
       "<Figure size 432x288 with 1 Axes>"
      ]
     },
     "metadata": {},
     "output_type": "display_data"
    }
   ],
   "source": [
    "bins_unfair = [el-0.5 for el in list(set(unfair))]\n",
    "ax = sns.histplot(fair, bins = bins_fair, label = 'fair')\n",
    "ax.set_xlim([0, 100])\n",
    "sns.histplot(unfair, bins = bins_unfair, label = 'unfair', color='r')\n",
    "ax.legend(loc=2)\n",
    "plt.show()"
   ]
  },
  {
   "cell_type": "markdown",
   "id": "d8c9ff1c-b50a-43b0-b40b-fdc0339c8c07",
   "metadata": {},
   "source": [
    "4. Consider this simple experiment: you take a coin and toss it 10 times. Now imagine you keep running this experiment until you get 10 heads in a row. Write a program that keeps tossing 10 coins until it reaches 10 heads and, once it has done so, prints to screen something like *\"Reached 10 straight heads after 307 tosses!\"*."
   ]
  },
  {
   "cell_type": "code",
   "execution_count": 59,
   "id": "1693129c-4d1f-43bf-b971-4756b5043bea",
   "metadata": {},
   "outputs": [
    {
     "name": "stdout",
     "output_type": "stream",
     "text": [
      "Reached 10 straight heads after 867 tosses!\n"
     ]
    }
   ],
   "source": [
    "cnt = 0\n",
    "ct = 0\n",
    "while ct < 10: \n",
    "    ct = np.random.binomial(10, 0.5)\n",
    "    cnt += 1\n",
    "print('Reached', ct, 'straight heads after', cnt, 'tosses!')"
   ]
  },
  {
   "cell_type": "markdown",
   "id": "4f87fa5a-01e8-444b-b5b6-53d8bf37fe12",
   "metadata": {},
   "source": [
    "5. Using the function `np.random.choice()`, simulate the roll of a die (that outputs values from 1 to 6); then, write a program that simulates 1000 rolls. What does it look like? Does it make sense to you? It should look different from any distribution we've seen so far, in fact, you shoud have generated a [Uniform distribution](https://en.wikipedia.org/wiki/Continuous_uniform_distribution) and it should look similar to [this one](https://www.newtechdojo.com/wp-content/uploads/2020/06/Pro-Pic-6-1024x617.png)."
   ]
  },
  {
   "cell_type": "code",
   "execution_count": null,
   "id": "cd5850cf-4405-4abb-9d11-146f56fda9d9",
   "metadata": {},
   "outputs": [],
   "source": [
    "rolls = []\n",
    "for roll in range(1000): \n",
    "    rolls.append(np.random.choice(6)+1)"
   ]
  },
  {
   "cell_type": "code",
   "execution_count": null,
   "id": "617c40c8-f20d-4418-b420-2f1c26a2bb24",
   "metadata": {},
   "outputs": [],
   "source": [
    "sns.histplot(rolls)\n",
    "plt.show()"
   ]
  },
  {
   "cell_type": "markdown",
   "id": "af4995f0-edce-427a-8f3a-9fdd56faca21",
   "metadata": {},
   "source": [
    "6. Generate a simulated dataset `df_sim` that contains data about 1000 fictitious survey respondents and 4 columns, specified as follows: \n",
    "\n",
    "- `id`: this is a progressive number starting from 1001\n",
    "- `gender`: the gender of the respondent represented as 1 or 0 (assume that the probability of 1 is $p=0.5042$)\n",
    "- `height`: the height of the respondent (assume it comes from a Normal distribution with $\\mu=170$ and $\\sigma^2=100$)\n",
    "- `eyes`: choose randomly between ['green', 'blue', 'hazel', 'brown', 'other'] using the following probabilities [0.03, 0.1, 0.1, 0.7, 0.07]\n",
    "- `score` the number of questions the respondent was able to answer to in the first 10 minuts (assume it comes from a Poisson distribution with $\\lambda=7$ and $n=1000$)"
   ]
  },
  {
   "cell_type": "code",
   "execution_count": null,
   "id": "b0277141-2bbc-4ef6-9776-79834dce840f",
   "metadata": {},
   "outputs": [],
   "source": [
    "df_sim = pd.DataFrame({'id': range(1, 1001), \n",
    "                      'gender': np.random.binomial(1, 0.5042, 1000), \n",
    "                      'height': np.random.normal(170, 10, 1000), \n",
    "                      'eyes': np.random.choice(['green', 'blue', 'hazel', 'brown', 'other'], \n",
    "                                              p=[0.03, 0.1, 0.1, 0.7, 0.07]), \n",
    "                      'score': np.random.poisson(7, 1000)})"
   ]
  },
  {
   "cell_type": "code",
   "execution_count": null,
   "id": "6c764f13-f71f-4d97-98f9-9f921fefc93a",
   "metadata": {},
   "outputs": [],
   "source": [
    "df_sim"
   ]
  },
  {
   "cell_type": "markdown",
   "id": "5ceb51a6-8e10-4950-bd86-736d2faa26fe",
   "metadata": {},
   "source": [
    "7. Write a function `tosses10()` that, every time it is executed, it returns the `cnt` value from question 4. Run a simulation of 1000 experiments where, at every iteration, you run the `tosses10()` function and append the result to a list named `rounds`. Plot the density of the resulting distribution of the new `rounds` object. What does it look like? What can you tell about the underlying data?"
   ]
  },
  {
   "cell_type": "code",
   "execution_count": null,
   "id": "02ff3ea5-bcb4-44eb-8fbb-9129cf6d6984",
   "metadata": {},
   "outputs": [],
   "source": [
    "def tosses10(): \n",
    "    cnt = 0\n",
    "    ct = 0\n",
    "    while ct < 10: \n",
    "        ct = np.random.binomial(10, 0.5)\n",
    "        cnt += 1\n",
    "    return cnt"
   ]
  },
  {
   "cell_type": "code",
   "execution_count": null,
   "id": "7871b1f3-e212-45e4-8d33-9927e9750c00",
   "metadata": {},
   "outputs": [],
   "source": [
    "rounds = [tosses10() for round in range(1000)]"
   ]
  },
  {
   "cell_type": "code",
   "execution_count": null,
   "id": "3dabfdb1-3b23-4773-9ab7-480a06a7fe7b",
   "metadata": {},
   "outputs": [],
   "source": [
    "sns.kdeplot(rounds)"
   ]
  },
  {
   "cell_type": "markdown",
   "id": "7ee3a412-077d-4649-b7a4-380e56722e8b",
   "metadata": {},
   "source": [
    "8. [Bonus]: Create a script that simulates a [Magic 8 Ball](https://en.wikipedia.org/wiki/Magic_8_Ball), an oracle from the 50's used for fortune-telling and seeking advice.\n",
    "\n",
    "Make sure the ball has the following features: \n",
    "\n",
    "- it allows the user to input his/her question;\n",
    "- it uses the responses from the `responses` list provided below; \n",
    "- it selects from the `responses` list in a biased manner, giving mostly negative (or positive, if you prefer) replies."
   ]
  },
  {
   "cell_type": "code",
   "execution_count": 60,
   "id": "751ee430-a5ce-4624-81e5-03a227143a1a",
   "metadata": {},
   "outputs": [],
   "source": [
    "responses = [\"It is certain\", \"It is decidedly so\", \"Without a doubt\", \"Yes, definitely\",\n",
    "             \"You may rely on it\", \"As I see it, yes\", \"Most Likely\", \"Outlook Good\",\n",
    "             \"Yes\", \"Signs point to yes\", \"Reply hazy, try again\", \"Ask again later\",\n",
    "             \"Better not tell you now\", \"Cannot predict now\", \"Concentrate and ask again\",\n",
    "             \"Don't count on it\", \"My reply is no\", \"My sources say no\", \"Outlook not so good\", \"Very Doubtful\"]"
   ]
  },
  {
   "cell_type": "code",
   "execution_count": 66,
   "id": "1d5e8467-f85a-4a91-817b-99756e6bae09",
   "metadata": {},
   "outputs": [],
   "source": [
    "def ask_question(): \n",
    "    question = input(\"You may ask your yes or no question of the Magic 8 Ball!\\n\")\n",
    "    prob = [el for el in range(1, 21)]\n",
    "    prob = [el/sum(prob) for el in prob]\n",
    "    print(np.random.choice(responses, p=prob))"
   ]
  },
  {
   "cell_type": "code",
   "execution_count": 67,
   "id": "9a126e01-fa4e-4652-8648-d60c26ce001f",
   "metadata": {},
   "outputs": [
    {
     "name": "stdin",
     "output_type": "stream",
     "text": [
      "You may ask your yes or no question of the Magic 8 Ball!\n",
      " gli esercizi saranno facili?\n"
     ]
    },
    {
     "name": "stdout",
     "output_type": "stream",
     "text": [
      "Very Doubtful\n"
     ]
    }
   ],
   "source": [
    "ask_question()"
   ]
  },
  {
   "cell_type": "code",
   "execution_count": null,
   "id": "d036c591-da38-438c-a3a1-3820f86e32f0",
   "metadata": {},
   "outputs": [],
   "source": []
  }
 ],
 "metadata": {
  "kernelspec": {
   "display_name": "Python 3 (ipykernel)",
   "language": "python",
   "name": "python3"
  },
  "language_info": {
   "codemirror_mode": {
    "name": "ipython",
    "version": 3
   },
   "file_extension": ".py",
   "mimetype": "text/x-python",
   "name": "python",
   "nbconvert_exporter": "python",
   "pygments_lexer": "ipython3",
   "version": "3.9.7"
  }
 },
 "nbformat": 4,
 "nbformat_minor": 5
}
