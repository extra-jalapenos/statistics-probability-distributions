{
 "cells": [
  {
   "cell_type": "markdown",
   "id": "06042437-369a-421c-b8d3-556b10551493",
   "metadata": {
    "tags": []
   },
   "source": [
    "### Benford's Law"
   ]
  },
  {
   "cell_type": "markdown",
   "id": "f44c03e0-4e06-47ca-b012-644ad139af9a",
   "metadata": {},
   "source": [
    "According to the homonymous [Wikipedia page](https://en.wikipedia.org/wiki/Benford%27s_law#Examples): \n",
    "\n",
    "> **Benford's law**, is an observation that *in many real-life sets of numerical data, the leading digit is likely to be small*. In sets that obey the law, the number 1 appears as the leading significant digit about 30 % of the time, while 9 appears as the leading significant digit less than 5 % of the time. Note that, if the digits were distributed uniformly, they would each occur about 11.1 % of the time.\n",
    "\n",
    "Below is a graphical representation of Benford's law: \n",
    "\n",
    "*Notice that the data used to populate the chart has been taken directly from the Wikipedia page using the `wikipedia` library (expand the cell below to see the relative code)*"
   ]
  },
  {
   "cell_type": "code",
   "execution_count": 2,
   "id": "e284f3cc-2224-4fd3-a1d4-d22b4af27983",
   "metadata": {
    "jupyter": {
     "source_hidden": true
    },
    "tags": []
   },
   "outputs": [],
   "source": [
    "import numpy as np\n",
    "import pandas as pd\n",
    "from scipy import stats\n",
    "\n",
    "import matplotlib.pyplot as plt\n",
    "import seaborn as sns\n",
    "sns.set_theme()\n",
    "\n",
    "#!pip install wikipedia\n",
    "import wikipedia as wp\n",
    "#wp.search('Benford')\n",
    "page = wp.page(\"Benford\")\n",
    "html = page.html().encode(\"UTF-8\")\n",
    "bl = pd.read_html(html)[0]\n",
    "bl.columns = ['ix', 'benford', 'to_drop']\n",
    "bl.drop(columns=['to_drop'], inplace=True)\n",
    "# remove % sign and convert to probability \n",
    "bl['benford'] = bl['benford'].str.replace('%', '').astype('float')/100\n",
    "#bl"
   ]
  },
  {
   "cell_type": "code",
   "execution_count": 3,
   "id": "661484a4-674e-4e25-9664-a23b41324a47",
   "metadata": {
    "jupyter": {
     "source_hidden": true
    },
    "tags": []
   },
   "outputs": [
    {
     "data": {
      "image/png": "[encoded data removed]",
      "text/plain": [
       "<Figure size 432x288 with 1 Axes>"
      ]
     },
     "metadata": {},
     "output_type": "display_data"
    }
   ],
   "source": [
    "ax = sns.barplot(x=bl['ix'], y=bl['benford']*100, color='c')\n",
    "ax.bar_label(ax.containers[0])\n",
    "ax.get_yaxis().set_visible(False)\n",
    "ax.set(xlabel=None)\n",
    "ax.set(title='The distribution of first digits, according to Benford\\'s law')\n",
    "sns.despine(left=True, bottom=True)\n",
    "plt.show()"
   ]
  },
  {
   "cell_type": "markdown",
   "id": "740a0eb4-fe84-4e22-a808-269e2c12c2f5",
   "metadata": {},
   "source": [
    "As a first example, let's consider the following expression: \n",
    "\n",
    "$$\n",
    "    \\Bigl\\{2^n\\Bigl\\}_{n=0}^{N} = \\{2^0, 2^1, 2^2, 2^3, 2^4, ..., 2^{N}\\}\n",
    "$$ \n",
    "\n",
    "If we extract the first digit from each number resulting from the sequence, we should notice a very close adherence to Benford’s law. To demonstrate this fact we'll proceed in the following manner: \n",
    "\n",
    "1. Create a DataFrame `bl` that contains the theoretical values given by Benford's Law (we already have such DF from the code that generated the chart above); \n",
    "2. Generate the sequence $2^n$ for the first 100 integers (that is, $N=100$) and save them to a DataFrame named `two_n` having a `n` column containing the integer and a `2n` column containing the result of the expression; \n",
    "3. Extract the first digit from each element of the sequence and save it to a new column `2n_first_digit` in the `two_n` DataFrame; \n",
    "4. Generate a frequency table for all elements in the `two_n['2n_first_digit']`; \n",
    "5. Save the results to a new DataFrame named `two_n_freq`;\n",
    "6. Merge the frequency table `two_n_freq` with the DataFrame containing the theoretical values of Benford's law `bl` and create a new DF `two_n_bl`; \n",
    "7. Plot the the density function of the two columns side by side; \n",
    "8. To get a single metric that tells us how close to the theoretical values of Benford's law our data is, let's compute an accuracy metric, technically known as the Mean Absolute Percentage Error (MAPE): \n",
    "    1. calculate the differences between the values of the frequency table and Benford's law theoretical values\n",
    "    2. take the absolute values using `np.abs()`\n",
    "    3. take the mean using `np.mean()`\n",
    "    4. multiply by 100 to get a percentage"
   ]
  },
  {
   "cell_type": "code",
   "execution_count": 4,
   "id": "c4fe3faa-1a91-4fe2-85cf-c578f62dc4ec",
   "metadata": {},
   "outputs": [
    {
     "data": {
      "text/html": [
       "<div>\n",
       "<style scoped>\n",
       "    .dataframe tbody tr th:only-of-type {\n",
       "        vertical-align: middle;\n",
       "    }\n",
       "\n",
       "    .dataframe tbody tr th {\n",
       "        vertical-align: top;\n",
       "    }\n",
       "\n",
       "    .dataframe thead th {\n",
       "        text-align: right;\n",
       "    }\n",
       "</style>\n",
       "<table border=\"1\" class=\"dataframe\">\n",
       "  <thead>\n",
       "    <tr style=\"text-align: right;\">\n",
       "      <th></th>\n",
       "      <th>ix</th>\n",
       "      <th>benford</th>\n",
       "    </tr>\n",
       "  </thead>\n",
       "  <tbody>\n",
       "    <tr>\n",
       "      <th>0</th>\n",
       "      <td>1</td>\n",
       "      <td>0.301</td>\n",
       "    </tr>\n",
       "    <tr>\n",
       "      <th>1</th>\n",
       "      <td>2</td>\n",
       "      <td>0.176</td>\n",
       "    </tr>\n",
       "    <tr>\n",
       "      <th>2</th>\n",
       "      <td>3</td>\n",
       "      <td>0.125</td>\n",
       "    </tr>\n",
       "    <tr>\n",
       "      <th>3</th>\n",
       "      <td>4</td>\n",
       "      <td>0.097</td>\n",
       "    </tr>\n",
       "    <tr>\n",
       "      <th>4</th>\n",
       "      <td>5</td>\n",
       "      <td>0.079</td>\n",
       "    </tr>\n",
       "    <tr>\n",
       "      <th>5</th>\n",
       "      <td>6</td>\n",
       "      <td>0.067</td>\n",
       "    </tr>\n",
       "    <tr>\n",
       "      <th>6</th>\n",
       "      <td>7</td>\n",
       "      <td>0.058</td>\n",
       "    </tr>\n",
       "    <tr>\n",
       "      <th>7</th>\n",
       "      <td>8</td>\n",
       "      <td>0.051</td>\n",
       "    </tr>\n",
       "    <tr>\n",
       "      <th>8</th>\n",
       "      <td>9</td>\n",
       "      <td>0.046</td>\n",
       "    </tr>\n",
       "  </tbody>\n",
       "</table>\n",
       "</div>"
      ],
      "text/plain": [
       "   ix  benford\n",
       "0   1    0.301\n",
       "1   2    0.176\n",
       "2   3    0.125\n",
       "3   4    0.097\n",
       "4   5    0.079\n",
       "5   6    0.067\n",
       "6   7    0.058\n",
       "7   8    0.051\n",
       "8   9    0.046"
      ]
     },
     "execution_count": 4,
     "metadata": {},
     "output_type": "execute_result"
    }
   ],
   "source": [
    "# 1. Create a DataFrame `bl` that contains the theoretical values given by Benford's Law\n",
    "bl"
   ]
  },
  {
   "cell_type": "code",
   "execution_count": 5,
   "id": "21f3347c-e26e-4949-aade-a09395543491",
   "metadata": {},
   "outputs": [
    {
     "data": {
      "text/html": [
       "<div>\n",
       "<style scoped>\n",
       "    .dataframe tbody tr th:only-of-type {\n",
       "        vertical-align: middle;\n",
       "    }\n",
       "\n",
       "    .dataframe tbody tr th {\n",
       "        vertical-align: top;\n",
       "    }\n",
       "\n",
       "    .dataframe thead th {\n",
       "        text-align: right;\n",
       "    }\n",
       "</style>\n",
       "<table border=\"1\" class=\"dataframe\">\n",
       "  <thead>\n",
       "    <tr style=\"text-align: right;\">\n",
       "      <th></th>\n",
       "      <th>n</th>\n",
       "      <th>2n</th>\n",
       "    </tr>\n",
       "  </thead>\n",
       "  <tbody>\n",
       "    <tr>\n",
       "      <th>72</th>\n",
       "      <td>72</td>\n",
       "      <td>4722366482869645213696</td>\n",
       "    </tr>\n",
       "    <tr>\n",
       "      <th>65</th>\n",
       "      <td>65</td>\n",
       "      <td>36893488147419103232</td>\n",
       "    </tr>\n",
       "    <tr>\n",
       "      <th>63</th>\n",
       "      <td>63</td>\n",
       "      <td>9223372036854775808</td>\n",
       "    </tr>\n",
       "    <tr>\n",
       "      <th>33</th>\n",
       "      <td>33</td>\n",
       "      <td>8589934592</td>\n",
       "    </tr>\n",
       "    <tr>\n",
       "      <th>51</th>\n",
       "      <td>51</td>\n",
       "      <td>2251799813685248</td>\n",
       "    </tr>\n",
       "  </tbody>\n",
       "</table>\n",
       "</div>"
      ],
      "text/plain": [
       "     n                      2n\n",
       "72  72  4722366482869645213696\n",
       "65  65    36893488147419103232\n",
       "63  63     9223372036854775808\n",
       "33  33              8589934592\n",
       "51  51        2251799813685248"
      ]
     },
     "execution_count": 5,
     "metadata": {},
     "output_type": "execute_result"
    }
   ],
   "source": [
    "# 2. Generate the sequence 2^n for the first 100 integers (that is, N=100) and save them to a DataFrame named two_n; \n",
    "two_n = pd.DataFrame({'n': range(0, 101), \n",
    "                      '2n': [2**n for n in range(0, 101)]})\n",
    "two_n.sample(5)"
   ]
  },
  {
   "cell_type": "code",
   "execution_count": 6,
   "id": "3b2c5071-e8fc-4299-84ec-5bef5a828588",
   "metadata": {},
   "outputs": [
    {
     "data": {
      "text/html": [
       "<div>\n",
       "<style scoped>\n",
       "    .dataframe tbody tr th:only-of-type {\n",
       "        vertical-align: middle;\n",
       "    }\n",
       "\n",
       "    .dataframe tbody tr th {\n",
       "        vertical-align: top;\n",
       "    }\n",
       "\n",
       "    .dataframe thead th {\n",
       "        text-align: right;\n",
       "    }\n",
       "</style>\n",
       "<table border=\"1\" class=\"dataframe\">\n",
       "  <thead>\n",
       "    <tr style=\"text-align: right;\">\n",
       "      <th></th>\n",
       "      <th>n</th>\n",
       "      <th>2n</th>\n",
       "      <th>2n_first_digit</th>\n",
       "    </tr>\n",
       "  </thead>\n",
       "  <tbody>\n",
       "    <tr>\n",
       "      <th>15</th>\n",
       "      <td>15</td>\n",
       "      <td>32768</td>\n",
       "      <td>3</td>\n",
       "    </tr>\n",
       "    <tr>\n",
       "      <th>88</th>\n",
       "      <td>88</td>\n",
       "      <td>309485009821345068724781056</td>\n",
       "      <td>3</td>\n",
       "    </tr>\n",
       "    <tr>\n",
       "      <th>7</th>\n",
       "      <td>7</td>\n",
       "      <td>128</td>\n",
       "      <td>1</td>\n",
       "    </tr>\n",
       "    <tr>\n",
       "      <th>13</th>\n",
       "      <td>13</td>\n",
       "      <td>8192</td>\n",
       "      <td>8</td>\n",
       "    </tr>\n",
       "    <tr>\n",
       "      <th>94</th>\n",
       "      <td>94</td>\n",
       "      <td>19807040628566084398385987584</td>\n",
       "      <td>1</td>\n",
       "    </tr>\n",
       "  </tbody>\n",
       "</table>\n",
       "</div>"
      ],
      "text/plain": [
       "     n                             2n  2n_first_digit\n",
       "15  15                          32768               3\n",
       "88  88    309485009821345068724781056               3\n",
       "7    7                            128               1\n",
       "13  13                           8192               8\n",
       "94  94  19807040628566084398385987584               1"
      ]
     },
     "execution_count": 6,
     "metadata": {},
     "output_type": "execute_result"
    }
   ],
   "source": [
    "# 3. Extract the first digit from each element of the sequence and save it to a new column `2n_first_digit` in the `two_n` DataFrame; \n",
    "two_n['2n_first_digit'] = [int(str(el)[0]) for el in two_n['2n']]\n",
    "two_n.sample(5)"
   ]
  },
  {
   "cell_type": "code",
   "execution_count": 7,
   "id": "98363642-45cd-4e31-b85e-c40dc04d71bb",
   "metadata": {},
   "outputs": [
    {
     "data": {
      "text/plain": [
       "1    0.306931\n",
       "2    0.168317\n",
       "3    0.128713\n",
       "4    0.099010\n",
       "6    0.069307\n",
       "5    0.069307\n",
       "7    0.059406\n",
       "8    0.049505\n",
       "9    0.049505\n",
       "Name: 2n_first_digit, dtype: float64"
      ]
     },
     "execution_count": 7,
     "metadata": {},
     "output_type": "execute_result"
    }
   ],
   "source": [
    "# 4. Generate a frequency table for all elements in the two_n['2n_fd'];\n",
    "two_n['2n_first_digit'].value_counts(normalize=True)"
   ]
  },
  {
   "cell_type": "code",
   "execution_count": 8,
   "id": "ac1c7e0a-328b-4623-b30b-6fc51ec02081",
   "metadata": {},
   "outputs": [
    {
     "data": {
      "text/html": [
       "<div>\n",
       "<style scoped>\n",
       "    .dataframe tbody tr th:only-of-type {\n",
       "        vertical-align: middle;\n",
       "    }\n",
       "\n",
       "    .dataframe tbody tr th {\n",
       "        vertical-align: top;\n",
       "    }\n",
       "\n",
       "    .dataframe thead th {\n",
       "        text-align: right;\n",
       "    }\n",
       "</style>\n",
       "<table border=\"1\" class=\"dataframe\">\n",
       "  <thead>\n",
       "    <tr style=\"text-align: right;\">\n",
       "      <th></th>\n",
       "      <th>ix</th>\n",
       "      <th>first_digit_freq</th>\n",
       "    </tr>\n",
       "  </thead>\n",
       "  <tbody>\n",
       "    <tr>\n",
       "      <th>0</th>\n",
       "      <td>1</td>\n",
       "      <td>0.306931</td>\n",
       "    </tr>\n",
       "    <tr>\n",
       "      <th>1</th>\n",
       "      <td>2</td>\n",
       "      <td>0.168317</td>\n",
       "    </tr>\n",
       "    <tr>\n",
       "      <th>2</th>\n",
       "      <td>3</td>\n",
       "      <td>0.128713</td>\n",
       "    </tr>\n",
       "    <tr>\n",
       "      <th>3</th>\n",
       "      <td>4</td>\n",
       "      <td>0.099010</td>\n",
       "    </tr>\n",
       "    <tr>\n",
       "      <th>4</th>\n",
       "      <td>6</td>\n",
       "      <td>0.069307</td>\n",
       "    </tr>\n",
       "    <tr>\n",
       "      <th>5</th>\n",
       "      <td>5</td>\n",
       "      <td>0.069307</td>\n",
       "    </tr>\n",
       "    <tr>\n",
       "      <th>6</th>\n",
       "      <td>7</td>\n",
       "      <td>0.059406</td>\n",
       "    </tr>\n",
       "    <tr>\n",
       "      <th>7</th>\n",
       "      <td>8</td>\n",
       "      <td>0.049505</td>\n",
       "    </tr>\n",
       "    <tr>\n",
       "      <th>8</th>\n",
       "      <td>9</td>\n",
       "      <td>0.049505</td>\n",
       "    </tr>\n",
       "  </tbody>\n",
       "</table>\n",
       "</div>"
      ],
      "text/plain": [
       "   ix  first_digit_freq\n",
       "0   1          0.306931\n",
       "1   2          0.168317\n",
       "2   3          0.128713\n",
       "3   4          0.099010\n",
       "4   6          0.069307\n",
       "5   5          0.069307\n",
       "6   7          0.059406\n",
       "7   8          0.049505\n",
       "8   9          0.049505"
      ]
     },
     "execution_count": 8,
     "metadata": {},
     "output_type": "execute_result"
    }
   ],
   "source": [
    "# 5. Save the results to a new DataFrame named two_n_freq;\n",
    "two_n_freq = pd.DataFrame({'ix': two_n['2n_first_digit'].value_counts(normalize=True).index, \n",
    "                         'first_digit_freq': two_n['2n_first_digit'].value_counts(normalize=True).values})\n",
    "two_n_freq"
   ]
  },
  {
   "cell_type": "code",
   "execution_count": 9,
   "id": "b2792247-4c10-4dc8-b9b1-d068c68b3dee",
   "metadata": {},
   "outputs": [
    {
     "data": {
      "text/html": [
       "<div>\n",
       "<style scoped>\n",
       "    .dataframe tbody tr th:only-of-type {\n",
       "        vertical-align: middle;\n",
       "    }\n",
       "\n",
       "    .dataframe tbody tr th {\n",
       "        vertical-align: top;\n",
       "    }\n",
       "\n",
       "    .dataframe thead th {\n",
       "        text-align: right;\n",
       "    }\n",
       "</style>\n",
       "<table border=\"1\" class=\"dataframe\">\n",
       "  <thead>\n",
       "    <tr style=\"text-align: right;\">\n",
       "      <th></th>\n",
       "      <th>ix</th>\n",
       "      <th>first_digit_freq</th>\n",
       "      <th>benford</th>\n",
       "    </tr>\n",
       "  </thead>\n",
       "  <tbody>\n",
       "    <tr>\n",
       "      <th>0</th>\n",
       "      <td>1</td>\n",
       "      <td>0.306931</td>\n",
       "      <td>0.301</td>\n",
       "    </tr>\n",
       "    <tr>\n",
       "      <th>1</th>\n",
       "      <td>2</td>\n",
       "      <td>0.168317</td>\n",
       "      <td>0.176</td>\n",
       "    </tr>\n",
       "    <tr>\n",
       "      <th>2</th>\n",
       "      <td>3</td>\n",
       "      <td>0.128713</td>\n",
       "      <td>0.125</td>\n",
       "    </tr>\n",
       "    <tr>\n",
       "      <th>3</th>\n",
       "      <td>4</td>\n",
       "      <td>0.099010</td>\n",
       "      <td>0.097</td>\n",
       "    </tr>\n",
       "    <tr>\n",
       "      <th>4</th>\n",
       "      <td>6</td>\n",
       "      <td>0.069307</td>\n",
       "      <td>0.067</td>\n",
       "    </tr>\n",
       "    <tr>\n",
       "      <th>5</th>\n",
       "      <td>5</td>\n",
       "      <td>0.069307</td>\n",
       "      <td>0.079</td>\n",
       "    </tr>\n",
       "    <tr>\n",
       "      <th>6</th>\n",
       "      <td>7</td>\n",
       "      <td>0.059406</td>\n",
       "      <td>0.058</td>\n",
       "    </tr>\n",
       "    <tr>\n",
       "      <th>7</th>\n",
       "      <td>8</td>\n",
       "      <td>0.049505</td>\n",
       "      <td>0.051</td>\n",
       "    </tr>\n",
       "    <tr>\n",
       "      <th>8</th>\n",
       "      <td>9</td>\n",
       "      <td>0.049505</td>\n",
       "      <td>0.046</td>\n",
       "    </tr>\n",
       "  </tbody>\n",
       "</table>\n",
       "</div>"
      ],
      "text/plain": [
       "   ix  first_digit_freq  benford\n",
       "0   1          0.306931    0.301\n",
       "1   2          0.168317    0.176\n",
       "2   3          0.128713    0.125\n",
       "3   4          0.099010    0.097\n",
       "4   6          0.069307    0.067\n",
       "5   5          0.069307    0.079\n",
       "6   7          0.059406    0.058\n",
       "7   8          0.049505    0.051\n",
       "8   9          0.049505    0.046"
      ]
     },
     "execution_count": 9,
     "metadata": {},
     "output_type": "execute_result"
    }
   ],
   "source": [
    "# 6. Merge the frequency table (two_n_freq) with the DataFrame containing the theoretical values of Benford's law (bl) \n",
    "#    and create a new DF `two_n_bl`\n",
    "two_n_bl = two_n_freq.merge(bl, on='ix')\n",
    "two_n_bl"
   ]
  },
  {
   "cell_type": "code",
   "execution_count": 10,
   "id": "42ecb72c-4ab3-40fd-9cae-4a37ae1a3c2b",
   "metadata": {},
   "outputs": [
    {
     "data": {
      "image/png": "[encoded data removed]",
      "text/plain": [
       "<Figure size 432x288 with 1 Axes>"
      ]
     },
     "metadata": {},
     "output_type": "display_data"
    }
   ],
   "source": [
    "# 7. Plot the the density function of the two columns side by side;  \n",
    "sns.kdeplot(data=two_n_bl[['first_digit_freq', 'benford']])\n",
    "plt.show()"
   ]
  },
  {
   "cell_type": "code",
   "execution_count": 11,
   "id": "0293d252-9a0e-43bb-ad55-4e8c5f3960fa",
   "metadata": {},
   "outputs": [
    {
     "name": "stdout",
     "output_type": "stream",
     "text": [
      "MAPE: 0.42 %\n"
     ]
    }
   ],
   "source": [
    "# 8. To get a single metric that tells us how close to the theoretical values of Benford's law our data is, \n",
    "#    let's compute an accuracy metric, technically known as the Mean Absolute Percentage Error (MAPE):\n",
    "print('MAPE:', round(np.mean(np.abs(two_n_bl['first_digit_freq'] - two_n_bl['benford']))*100, 2), '%')"
   ]
  },
  {
   "cell_type": "markdown",
   "id": "24670414-c9cb-4e01-87d8-642208bc096b",
   "metadata": {},
   "source": [
    "***"
   ]
  },
  {
   "cell_type": "markdown",
   "id": "cdb4cc6b-1c92-46e0-8b67-dadf750b2eb4",
   "metadata": {},
   "source": [
    "**Your turn!**"
   ]
  },
  {
   "cell_type": "markdown",
   "id": "aaf62ded-8a5b-4f49-ba05-d5c4e2353e57",
   "metadata": {
    "tags": []
   },
   "source": [
    "1. Check for Benford's Law in the `distance` variable from the `planets` dataset; in particular, make sure to produce: \n",
    "    1. A frequency table showing the number of occurrences for each first digit of the `distance` variable\n",
    "    2. A chart showing two density plots comparing the data's frequency table and the theoretical values from Benford's law\n",
    "    3. Print to screen an accuracy measure that summarises how well this data conforms to Benford's Law"
   ]
  },
  {
   "cell_type": "code",
   "execution_count": 40,
   "id": "31daa4c4-f20d-4d71-8705-5f8a353bb4b7",
   "metadata": {},
   "outputs": [
    {
     "data": {
      "text/html": [
       "<div>\n",
       "<style scoped>\n",
       "    .dataframe tbody tr th:only-of-type {\n",
       "        vertical-align: middle;\n",
       "    }\n",
       "\n",
       "    .dataframe tbody tr th {\n",
       "        vertical-align: top;\n",
       "    }\n",
       "\n",
       "    .dataframe thead th {\n",
       "        text-align: right;\n",
       "    }\n",
       "</style>\n",
       "<table border=\"1\" class=\"dataframe\">\n",
       "  <thead>\n",
       "    <tr style=\"text-align: right;\">\n",
       "      <th></th>\n",
       "      <th>method</th>\n",
       "      <th>number</th>\n",
       "      <th>orbital_period</th>\n",
       "      <th>mass</th>\n",
       "      <th>distance</th>\n",
       "      <th>year</th>\n",
       "    </tr>\n",
       "  </thead>\n",
       "  <tbody>\n",
       "    <tr>\n",
       "      <th>294</th>\n",
       "      <td>Radial Velocity</td>\n",
       "      <td>1</td>\n",
       "      <td>388.00000</td>\n",
       "      <td>9.1000</td>\n",
       "      <td>20.98</td>\n",
       "      <td>2005</td>\n",
       "    </tr>\n",
       "    <tr>\n",
       "      <th>833</th>\n",
       "      <td>Transit</td>\n",
       "      <td>1</td>\n",
       "      <td>16.23850</td>\n",
       "      <td>NaN</td>\n",
       "      <td>NaN</td>\n",
       "      <td>2014</td>\n",
       "    </tr>\n",
       "    <tr>\n",
       "      <th>649</th>\n",
       "      <td>Transit</td>\n",
       "      <td>1</td>\n",
       "      <td>2.70339</td>\n",
       "      <td>1.4700</td>\n",
       "      <td>178.00</td>\n",
       "      <td>2013</td>\n",
       "    </tr>\n",
       "    <tr>\n",
       "      <th>842</th>\n",
       "      <td>Transit</td>\n",
       "      <td>5</td>\n",
       "      <td>7.07142</td>\n",
       "      <td>NaN</td>\n",
       "      <td>NaN</td>\n",
       "      <td>2014</td>\n",
       "    </tr>\n",
       "    <tr>\n",
       "      <th>259</th>\n",
       "      <td>Radial Velocity</td>\n",
       "      <td>2</td>\n",
       "      <td>11.84900</td>\n",
       "      <td>0.0378</td>\n",
       "      <td>43.08</td>\n",
       "      <td>2011</td>\n",
       "    </tr>\n",
       "  </tbody>\n",
       "</table>\n",
       "</div>"
      ],
      "text/plain": [
       "              method  number  orbital_period    mass  distance  year\n",
       "294  Radial Velocity       1       388.00000  9.1000     20.98  2005\n",
       "833          Transit       1        16.23850     NaN       NaN  2014\n",
       "649          Transit       1         2.70339  1.4700    178.00  2013\n",
       "842          Transit       5         7.07142     NaN       NaN  2014\n",
       "259  Radial Velocity       2        11.84900  0.0378     43.08  2011"
      ]
     },
     "execution_count": 40,
     "metadata": {},
     "output_type": "execute_result"
    }
   ],
   "source": [
    "df = sns.load_dataset('planets')\n",
    "df.sample(5)"
   ]
  },
  {
   "cell_type": "code",
   "execution_count": 43,
   "id": "80605020-b476-408d-ab82-ab43dbe47773",
   "metadata": {},
   "outputs": [
    {
     "data": {
      "text/html": [
       "<div>\n",
       "<style scoped>\n",
       "    .dataframe tbody tr th:only-of-type {\n",
       "        vertical-align: middle;\n",
       "    }\n",
       "\n",
       "    .dataframe tbody tr th {\n",
       "        vertical-align: top;\n",
       "    }\n",
       "\n",
       "    .dataframe thead th {\n",
       "        text-align: right;\n",
       "    }\n",
       "</style>\n",
       "<table border=\"1\" class=\"dataframe\">\n",
       "  <thead>\n",
       "    <tr style=\"text-align: right;\">\n",
       "      <th></th>\n",
       "      <th>method</th>\n",
       "      <th>number</th>\n",
       "      <th>orbital_period</th>\n",
       "      <th>mass</th>\n",
       "      <th>distance</th>\n",
       "      <th>year</th>\n",
       "      <th>distance_fd</th>\n",
       "    </tr>\n",
       "  </thead>\n",
       "  <tbody>\n",
       "    <tr>\n",
       "      <th>226</th>\n",
       "      <td>Radial Velocity</td>\n",
       "      <td>1</td>\n",
       "      <td>227.000</td>\n",
       "      <td>1.8000</td>\n",
       "      <td>44.15</td>\n",
       "      <td>2002</td>\n",
       "      <td>4.0</td>\n",
       "    </tr>\n",
       "    <tr>\n",
       "      <th>478</th>\n",
       "      <td>Radial Velocity</td>\n",
       "      <td>1</td>\n",
       "      <td>653.220</td>\n",
       "      <td>9.7000</td>\n",
       "      <td>33.46</td>\n",
       "      <td>2002</td>\n",
       "      <td>3.0</td>\n",
       "    </tr>\n",
       "    <tr>\n",
       "      <th>875</th>\n",
       "      <td>Transit</td>\n",
       "      <td>2</td>\n",
       "      <td>33.006</td>\n",
       "      <td>NaN</td>\n",
       "      <td>NaN</td>\n",
       "      <td>2013</td>\n",
       "      <td>NaN</td>\n",
       "    </tr>\n",
       "    <tr>\n",
       "      <th>465</th>\n",
       "      <td>Radial Velocity</td>\n",
       "      <td>2</td>\n",
       "      <td>3.270</td>\n",
       "      <td>0.0351</td>\n",
       "      <td>24.15</td>\n",
       "      <td>2011</td>\n",
       "      <td>2.0</td>\n",
       "    </tr>\n",
       "    <tr>\n",
       "      <th>878</th>\n",
       "      <td>Transit</td>\n",
       "      <td>2</td>\n",
       "      <td>24.806</td>\n",
       "      <td>NaN</td>\n",
       "      <td>NaN</td>\n",
       "      <td>2013</td>\n",
       "      <td>NaN</td>\n",
       "    </tr>\n",
       "  </tbody>\n",
       "</table>\n",
       "</div>"
      ],
      "text/plain": [
       "              method  number  orbital_period    mass  distance  year  \\\n",
       "226  Radial Velocity       1         227.000  1.8000     44.15  2002   \n",
       "478  Radial Velocity       1         653.220  9.7000     33.46  2002   \n",
       "875          Transit       2          33.006     NaN       NaN  2013   \n",
       "465  Radial Velocity       2           3.270  0.0351     24.15  2011   \n",
       "878          Transit       2          24.806     NaN       NaN  2013   \n",
       "\n",
       "     distance_fd  \n",
       "226          4.0  \n",
       "478          3.0  \n",
       "875          NaN  \n",
       "465          2.0  \n",
       "878          NaN  "
      ]
     },
     "execution_count": 43,
     "metadata": {},
     "output_type": "execute_result"
    }
   ],
   "source": [
    "#df['distance_fd'] = [int(str(el)[0]) for el in df.distance if np.isnan(el)==False]\n",
    "\n",
    "df['distance_fd'] = [np.NaN if np.isnan(el) else int(str(el)[0]) for el in df['distance']]\n",
    "df.sample(5)"
   ]
  },
  {
   "cell_type": "code",
   "execution_count": null,
   "id": "7dfd3b0f-1929-435f-8d70-6b10929f2be0",
   "metadata": {
    "jupyter": {
     "source_hidden": true
    },
    "tags": []
   },
   "outputs": [],
   "source": [
    "sns.histplot(df['distance_fd'], bins=9, stat='probability')\n",
    "plt.show()"
   ]
  },
  {
   "cell_type": "code",
   "execution_count": 44,
   "id": "127a8d5e-3049-4297-98b8-b850fb0ef890",
   "metadata": {},
   "outputs": [
    {
     "data": {
      "text/html": [
       "<div>\n",
       "<style scoped>\n",
       "    .dataframe tbody tr th:only-of-type {\n",
       "        vertical-align: middle;\n",
       "    }\n",
       "\n",
       "    .dataframe tbody tr th {\n",
       "        vertical-align: top;\n",
       "    }\n",
       "\n",
       "    .dataframe thead th {\n",
       "        text-align: right;\n",
       "    }\n",
       "</style>\n",
       "<table border=\"1\" class=\"dataframe\">\n",
       "  <thead>\n",
       "    <tr style=\"text-align: right;\">\n",
       "      <th></th>\n",
       "      <th>ix</th>\n",
       "      <th>first_digit_freq</th>\n",
       "    </tr>\n",
       "  </thead>\n",
       "  <tbody>\n",
       "    <tr>\n",
       "      <th>0</th>\n",
       "      <td>1.0</td>\n",
       "      <td>0.263614</td>\n",
       "    </tr>\n",
       "    <tr>\n",
       "      <th>1</th>\n",
       "      <td>3.0</td>\n",
       "      <td>0.179455</td>\n",
       "    </tr>\n",
       "    <tr>\n",
       "      <th>2</th>\n",
       "      <td>2.0</td>\n",
       "      <td>0.155941</td>\n",
       "    </tr>\n",
       "    <tr>\n",
       "      <th>3</th>\n",
       "      <td>4.0</td>\n",
       "      <td>0.116337</td>\n",
       "    </tr>\n",
       "    <tr>\n",
       "      <th>4</th>\n",
       "      <td>5.0</td>\n",
       "      <td>0.099010</td>\n",
       "    </tr>\n",
       "    <tr>\n",
       "      <th>5</th>\n",
       "      <td>6.0</td>\n",
       "      <td>0.075495</td>\n",
       "    </tr>\n",
       "    <tr>\n",
       "      <th>6</th>\n",
       "      <td>8.0</td>\n",
       "      <td>0.043317</td>\n",
       "    </tr>\n",
       "    <tr>\n",
       "      <th>7</th>\n",
       "      <td>7.0</td>\n",
       "      <td>0.034653</td>\n",
       "    </tr>\n",
       "    <tr>\n",
       "      <th>8</th>\n",
       "      <td>9.0</td>\n",
       "      <td>0.032178</td>\n",
       "    </tr>\n",
       "  </tbody>\n",
       "</table>\n",
       "</div>"
      ],
      "text/plain": [
       "    ix  first_digit_freq\n",
       "0  1.0          0.263614\n",
       "1  3.0          0.179455\n",
       "2  2.0          0.155941\n",
       "3  4.0          0.116337\n",
       "4  5.0          0.099010\n",
       "5  6.0          0.075495\n",
       "6  8.0          0.043317\n",
       "7  7.0          0.034653\n",
       "8  9.0          0.032178"
      ]
     },
     "execution_count": 44,
     "metadata": {},
     "output_type": "execute_result"
    }
   ],
   "source": [
    "# 1A. A frequency table showing the number of occurrences for each first digit of the distance variable\n",
    "freq_distance = pd.DataFrame({'ix': df['distance_fd'].value_counts(normalize=True).index, \n",
    "                              'first_digit_freq': df['distance_fd'].value_counts(normalize=True).values})\n",
    "freq_distance"
   ]
  },
  {
   "cell_type": "code",
   "execution_count": 45,
   "id": "c9c1d1b0-e6ab-4f2d-89a7-c120f6f24642",
   "metadata": {},
   "outputs": [
    {
     "data": {
      "text/html": [
       "<div>\n",
       "<style scoped>\n",
       "    .dataframe tbody tr th:only-of-type {\n",
       "        vertical-align: middle;\n",
       "    }\n",
       "\n",
       "    .dataframe tbody tr th {\n",
       "        vertical-align: top;\n",
       "    }\n",
       "\n",
       "    .dataframe thead th {\n",
       "        text-align: right;\n",
       "    }\n",
       "</style>\n",
       "<table border=\"1\" class=\"dataframe\">\n",
       "  <thead>\n",
       "    <tr style=\"text-align: right;\">\n",
       "      <th></th>\n",
       "      <th>ix</th>\n",
       "      <th>first_digit_freq</th>\n",
       "      <th>benford</th>\n",
       "    </tr>\n",
       "  </thead>\n",
       "  <tbody>\n",
       "    <tr>\n",
       "      <th>0</th>\n",
       "      <td>1.0</td>\n",
       "      <td>0.263614</td>\n",
       "      <td>0.301</td>\n",
       "    </tr>\n",
       "    <tr>\n",
       "      <th>1</th>\n",
       "      <td>3.0</td>\n",
       "      <td>0.179455</td>\n",
       "      <td>0.125</td>\n",
       "    </tr>\n",
       "    <tr>\n",
       "      <th>2</th>\n",
       "      <td>2.0</td>\n",
       "      <td>0.155941</td>\n",
       "      <td>0.176</td>\n",
       "    </tr>\n",
       "    <tr>\n",
       "      <th>3</th>\n",
       "      <td>4.0</td>\n",
       "      <td>0.116337</td>\n",
       "      <td>0.097</td>\n",
       "    </tr>\n",
       "    <tr>\n",
       "      <th>4</th>\n",
       "      <td>5.0</td>\n",
       "      <td>0.099010</td>\n",
       "      <td>0.079</td>\n",
       "    </tr>\n",
       "    <tr>\n",
       "      <th>5</th>\n",
       "      <td>6.0</td>\n",
       "      <td>0.075495</td>\n",
       "      <td>0.067</td>\n",
       "    </tr>\n",
       "    <tr>\n",
       "      <th>6</th>\n",
       "      <td>8.0</td>\n",
       "      <td>0.043317</td>\n",
       "      <td>0.051</td>\n",
       "    </tr>\n",
       "    <tr>\n",
       "      <th>7</th>\n",
       "      <td>7.0</td>\n",
       "      <td>0.034653</td>\n",
       "      <td>0.058</td>\n",
       "    </tr>\n",
       "    <tr>\n",
       "      <th>8</th>\n",
       "      <td>9.0</td>\n",
       "      <td>0.032178</td>\n",
       "      <td>0.046</td>\n",
       "    </tr>\n",
       "  </tbody>\n",
       "</table>\n",
       "</div>"
      ],
      "text/plain": [
       "    ix  first_digit_freq  benford\n",
       "0  1.0          0.263614    0.301\n",
       "1  3.0          0.179455    0.125\n",
       "2  2.0          0.155941    0.176\n",
       "3  4.0          0.116337    0.097\n",
       "4  5.0          0.099010    0.079\n",
       "5  6.0          0.075495    0.067\n",
       "6  8.0          0.043317    0.051\n",
       "7  7.0          0.034653    0.058\n",
       "8  9.0          0.032178    0.046"
      ]
     },
     "execution_count": 45,
     "metadata": {},
     "output_type": "execute_result"
    }
   ],
   "source": [
    "freq_distance_bl = freq_distance.merge(bl, on='ix')\n",
    "freq_distance_bl"
   ]
  },
  {
   "cell_type": "code",
   "execution_count": 46,
   "id": "b9266457-ef9f-4f63-b9df-186e3749a3ad",
   "metadata": {},
   "outputs": [
    {
     "data": {
      "image/png": "[encoded data removed]",
      "text/plain": [
       "<Figure size 432x288 with 1 Axes>"
      ]
     },
     "metadata": {},
     "output_type": "display_data"
    }
   ],
   "source": [
    "# 2B. A chart showing two density plots comparing the data's frequency table and the theoretical values from Benford's law\n",
    "sns.kdeplot(data = freq_distance_bl[['first_digit_freq', 'benford']])\n",
    "plt.show()"
   ]
  },
  {
   "cell_type": "code",
   "execution_count": null,
   "id": "0d83e7a1-c52d-48ab-b023-ab154ac3302b",
   "metadata": {
    "jupyter": {
     "source_hidden": true
    },
    "tags": []
   },
   "outputs": [],
   "source": [
    "import plotly.express as px\n",
    "\n",
    "\n",
    "freq_distance_bl['delta'] = freq_distance_bl['benford'] - freq_distance_bl['first_digit_freq']\n",
    "\n",
    "fig = px.bar(freq_distance_bl, \n",
    "base = \"first_digit_freq\",\n",
    "x = \"delta\",\n",
    "y = \"ix\",\n",
    "orientation = 'h'\n",
    ")\n",
    "\n",
    "fig.update_yaxes(autorange=\"reversed\")\n",
    "fig.show()"
   ]
  },
  {
   "cell_type": "code",
   "execution_count": 47,
   "id": "0a718f37-4b7c-4d17-808d-5c07aa5641bb",
   "metadata": {},
   "outputs": [
    {
     "name": "stdout",
     "output_type": "stream",
     "text": [
      "MAPE: 2.27 %\n"
     ]
    }
   ],
   "source": [
    "# 3C. Print to screen an accuracy measure that summarises how well this data conforms to Benford's Law\n",
    "print('MAPE:', round(np.mean(np.abs(freq_distance_bl['first_digit_freq'] - freq_distance_bl['benford']))*100, 2), '%')"
   ]
  },
  {
   "cell_type": "code",
   "execution_count": null,
   "id": "8955a7d2-08a0-4256-84e6-fcc269f034a3",
   "metadata": {},
   "outputs": [],
   "source": []
  }
 ],
 "metadata": {
  "kernelspec": {
   "display_name": "Python 3 (ipykernel)",
   "language": "python",
   "name": "python3"
  },
  "language_info": {
   "codemirror_mode": {
    "name": "ipython",
    "version": 3
   },
   "file_extension": ".py",
   "mimetype": "text/x-python",
   "name": "python",
   "nbconvert_exporter": "python",
   "pygments_lexer": "ipython3",
   "version": "3.9.7"
  }
 },
 "nbformat": 4,
 "nbformat_minor": 5
}
